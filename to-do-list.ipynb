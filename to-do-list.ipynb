{
 "cells": [
  {
   "cell_type": "code",
   "execution_count": 3,
   "id": "d63541",
   "metadata": {
    "cocalc": {
     "outputs": {
      "1": {
       "name": "input",
       "opts": {
        "password": false,
        "prompt": "Enter your choice: "
       },
       "output_type": "stream"
      }
     }
    },
    "collapsed": false
   },
   "outputs": [
    {
     "name": "stdout",
     "output_type": "stream",
     "text": [
      "\n",
      "1. Add Task\n",
      "2. View Tasks\n",
      "3. Mark as Complete\n",
      "4. Delete Task\n",
      "5. Quit\n"
     ]
    },
    {
     "name": "stdout",
     "output_type": "stream",
     "text": "Enter your choice:  "
    }
   ],
   "source": [
    "class ToDoList:\n",
    "    def __init__(self):\n",
    "        self.tasks = {}\n",
    "\n",
    "    def add_task(self, task_name):\n",
    "        if task_name in self.tasks:\n",
    "            print(\"Task already exists!\")\n",
    "        else:\n",
    "            self.tasks[task_name] = False\n",
    "            print(\"Task added successfully!\")\n",
    "\n",
    "    def view_tasks(self):\n",
    "        if not self.tasks:\n",
    "            print(\"No tasks available!\")\n",
    "        else:\n",
    "            for task, status in self.tasks.items():\n",
    "                status = \"Completed\" if status else \"Not Completed\"\n",
    "                print(f\"{task}: {status}\")\n",
    "\n",
    "    def mark_as_complete(self, task_name):\n",
    "        if task_name in self.tasks:\n",
    "            self.tasks[task_name] = True\n",
    "            print(\"Task marked as complete!\")\n",
    "        else:\n",
    "            print(\"Task not found!\")\n",
    "\n",
    "    def delete_task(self, task_name):\n",
    "        if task_name in self.tasks:\n",
    "            del self.tasks[task_name]\n",
    "            print(\"Task deleted successfully!\")\n",
    "        else:\n",
    "            print(\"Task not found!\")\n",
    "\n",
    "def main():\n",
    "    todo_list = ToDoList()\n",
    "\n",
    "    while True:\n",
    "        print(\"\\n1. Add Task\")\n",
    "        print(\"2. View Tasks\")\n",
    "        print(\"3. Mark as Complete\")\n",
    "        print(\"4. Delete Task\")\n",
    "        print(\"5. Quit\")\n",
    "\n",
    "        choice = input(\"Enter your choice: \")\n",
    "\n",
    "        if choice == \"1\":\n",
    "            task_name = input(\"Enter task name: \")\n",
    "            todo_list.add_task(task_name)\n",
    "        elif choice == \"2\":\n",
    "            todo_list.view_tasks()\n",
    "        elif choice == \"3\":\n",
    "            task_name = input(\"Enter task name: \")\n",
    "            todo_list.mark_as_complete(task_name)\n",
    "        elif choice == \"4\":\n",
    "            task_name = input(\"Enter task name: \")\n",
    "            todo_list.delete_task(task_name)\n",
    "        elif choice == \"5\":\n",
    "            print(\"Goodbye!\")\n",
    "            break\n",
    "        else:\n",
    "            print(\"Invalid choice. Please try again.\")\n",
    "\n",
    "if __name__ == \"__main__\":\n",
    "    main()"
   ]
  }
 ],
 "metadata": {
  "kernelspec": {
   "argv": [
    "/usr/bin/python3",
    "-m",
    "ipykernel",
    "--HistoryManager.enabled=False",
    "--matplotlib=inline",
    "-c",
    "%config InlineBackend.figure_formats = set(['retina'])\nimport matplotlib; matplotlib.rcParams['figure.figsize'] = (12, 7)",
    "-f",
    "{connection_file}"
   ],
   "display_name": "Python 3 (system-wide)",
   "env": {
   },
   "language": "python",
   "metadata": {
    "cocalc": {
     "description": "Python 3 programming language",
     "priority": 100,
     "url": "https://www.python.org/"
    }
   },
   "name": "python3",
   "resource_dir": "/ext/jupyter/kernels/python3"
  },
  "language_info": {
   "codemirror_mode": {
    "name": "ipython",
    "version": 3
   },
   "file_extension": ".py",
   "mimetype": "text/x-python",
   "name": "python",
   "nbconvert_exporter": "python",
   "pygments_lexer": "ipython3",
   "version": "3.10.12"
  }
 },
 "nbformat": 4,
 "nbformat_minor": 4
}