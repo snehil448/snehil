{
 "cells": [
  {
   "cell_type": "code",
   "execution_count": 3,
   "id": "349912",
   "metadata": {
    "cocalc": {
     "outputs": {
      "1": {
       "name": "input",
       "opts": {
        "password": false,
        "prompt": "Take a guess: "
       },
       "output_type": "stream"
      }
     }
    },
    "collapsed": false
   },
   "outputs": [
    {
     "name": "stdout",
     "output_type": "stream",
     "text": [
      "Welcome to the number guessing game!\n",
      "I'm thinking of a number between 1 and 100.\n"
     ]
    },
    {
     "name": "stdout",
     "output_type": "stream",
     "text": "Take a guess:  "
    }
   ],
   "source": [
    "import random\n",
    "\n",
    "def guesstnumber():\n",
    "    numbertguess = random.randint(1, 100)\n",
    "    \n",
    "    tries = 0\n",
    "    \n",
    "    print(\"Welcome to the number guessing game!\")\n",
    "    print(\"I'm thinking of a number between 1 and 100.\")\n",
    "    \n",
    "    while True:\n",
    "       \n",
    "        userguess = input(\"Take a guess: \")\n",
    "        \n",
    "       \n",
    "        if userguess.lower() == \"quit\":\n",
    "            print(\"Okay, the number was {}.\".format(numbertguess))\n",
    "            break\n",
    "        \n",
    "        \n",
    "        try:\n",
    "            userguess = int(userguess)\n",
    "        except ValueError:\n",
    "            print(\"That's not a valid number!\")\n",
    "            continue\n",
    "        \n",
    "     \n",
    "        tries += 1\n",
    "        \n",
    "    \n",
    "        if userguess == numbertguess:\n",
    "            print(\"Congratulations! You found the number in {} tries.\".format(tries))\n",
    "            break\n",
    "        elif userguess < numbertguess:\n",
    "            print(\"Too low!\")\n",
    "        else:\n",
    "            print(\"Too high!\")\n",
    "\n",
    "if __name__ == \"__main__\":\n",
    "    guesstnumber()\n"
   ]
  }
 ],
 "metadata": {
  "kernelspec": {
   "argv": [
    "/usr/bin/python3",
    "-m",
    "ipykernel",
    "--HistoryManager.enabled=False",
    "--matplotlib=inline",
    "-c",
    "%config InlineBackend.figure_formats = set(['retina'])\nimport matplotlib; matplotlib.rcParams['figure.figsize'] = (12, 7)",
    "-f",
    "{connection_file}"
   ],
   "display_name": "Python 3 (system-wide)",
   "env": {
   },
   "language": "python",
   "metadata": {
    "cocalc": {
     "description": "Python 3 programming language",
     "priority": 100,
     "url": "https://www.python.org/"
    }
   },
   "name": "python3",
   "resource_dir": "/ext/jupyter/kernels/python3"
  },
  "language_info": {
   "codemirror_mode": {
    "name": "ipython",
    "version": 3
   },
   "file_extension": ".py",
   "mimetype": "text/x-python",
   "name": "python",
   "nbconvert_exporter": "python",
   "pygments_lexer": "ipython3",
   "version": "3.10.12"
  }
 },
 "nbformat": 4,
 "nbformat_minor": 4
}